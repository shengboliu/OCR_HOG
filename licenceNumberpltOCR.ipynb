{
 "cells": [
  {
   "cell_type": "code",
   "execution_count": 121,
   "metadata": {
    "collapsed": true
   },
   "outputs": [],
   "source": [
    "%matplotlib inline\n",
    "import cv2\n",
    "import numpy as np\n",
    "import sys\n",
    "import glob\n",
    "import math\n",
    "import os\n",
    "from matplotlib import pyplot as plt\n",
    "from skimage.feature import hog\n",
    "from skimage import data, color, exposure\n",
    "import pickle"
   ]
  },
  {
   "cell_type": "code",
   "execution_count": 203,
   "metadata": {
    "collapsed": true
   },
   "outputs": [],
   "source": [
    "def getHOGDescriptor(image):\n",
    "    #im = cv2.imread(imagePath)\n",
    "    gr = cv2.cvtColor(image, cv2.COLOR_BGR2GRAY) \n",
    "    gr1 = cv2.resize(gr,(64*2,64*2))\n",
    "\n",
    "    fd, hog_image = hog(gr1, orientations=9, pixels_per_cell=(4, 4),\n",
    "                    cells_per_block=(1, 1),visualise=True)\n",
    "    return fd"
   ]
  },
  {
   "cell_type": "code",
   "execution_count": 205,
   "metadata": {
    "collapsed": true
   },
   "outputs": [],
   "source": [
    "def validate_contour(contour, img, aspect_ratio_range, area_range):\n",
    "    rect = cv2.minAreaRect(contour)\n",
    "    img_width = img.shape[1]\n",
    "    img_height = img.shape[0]\n",
    "    box = cv2.boxPoints(rect) \n",
    "    box = np.int0(box)\n",
    "\n",
    "    X = rect[0][0]\n",
    "    Y = rect[0][1]\n",
    "    angle = rect[2] \n",
    "    width = rect[1][0]\n",
    "    height = rect[1][1]\n",
    "\n",
    "    angle = (angle + 180) if width < height else (angle + 90)\n",
    "\n",
    "    output=False\n",
    "    \n",
    "    if (width > 0 and height > 0) and ((width < img_width/2.0) and (height < img_width/2.0)):\n",
    "    \taspect_ratio = float(width)/height if width > height else float(height)/width\n",
    "        if (aspect_ratio >= aspect_ratio_range[0] and aspect_ratio <= aspect_ratio_range[1]):\n",
    "        \tif((height*width > area_range[0]) and (height*width < area_range[1])):\n",
    "\n",
    "        \t\tbox_copy = list(box)\n",
    "        \t\tpoint = box_copy[0]\n",
    "        \t\tdel(box_copy[0])\n",
    "        \t\tdists = [((p[0]-point[0])**2 + (p[1]-point[1])**2) for p in box_copy]\n",
    "        \t\tsorted_dists = sorted(dists)\n",
    "        \t\topposite_point = box_copy[dists.index(sorted_dists[1])]\n",
    "        \t\ttmp_angle = 90\n",
    "\n",
    "        \t\tif abs(point[0]-opposite_point[0]) > 0:\n",
    "        \t\t\ttmp_angle = abs(float(point[1]-opposite_point[1]))/abs(point[0]-opposite_point[0])\n",
    "        \t\t\ttmp_angle = rad_to_deg(math.atan(tmp_angle))\n",
    "\n",
    "        \t\tif tmp_angle <= 45:\n",
    "        \t\t\toutput = True\n",
    "    return output"
   ]
  },
  {
   "cell_type": "code",
   "execution_count": 206,
   "metadata": {
    "collapsed": true
   },
   "outputs": [],
   "source": [
    "def deg_to_rad(angle):\n",
    "\treturn angle*np.pi/180.0"
   ]
  },
  {
   "cell_type": "code",
   "execution_count": 207,
   "metadata": {
    "collapsed": true
   },
   "outputs": [],
   "source": [
    "def rad_to_deg(angle):\n",
    "\treturn angle*180/np.pi"
   ]
  },
  {
   "cell_type": "code",
   "execution_count": 208,
   "metadata": {
    "collapsed": true
   },
   "outputs": [],
   "source": [
    "def enhance(img):\n",
    "\tkernel = np.array([[-1,0,1],[-2,0,2],[1,0,1]])\n",
    "\treturn cv2.filter2D(img, -1, kernel)"
   ]
  },
  {
   "cell_type": "code",
   "execution_count": 282,
   "metadata": {
    "collapsed": true
   },
   "outputs": [],
   "source": [
    "def displayDetectedChar(path,licencePltImage,image,x1,y1):\n",
    "    modle = pickle.load(open('train_numberplate.xml', \"rb\"))\n",
    "    blobFilePath = path + '/blobdetectionFile.txt'\n",
    "    \n",
    "    with open(blobFilePath,'r') as file:\n",
    "        for line in file:\n",
    "            rect =  line.split()\n",
    "            x = x1 + int(rect[0])\n",
    "            y = y1 + int(rect[1])\n",
    "            width =  int(rect[2])\n",
    "            height = int(rect[3])\n",
    "            #cv2.rectangle(image,(x,y), (x+width,y+height),(255,0,0), 1)\n",
    "            blob = image[y:y+height,x:x+width]\n",
    "            fd = getHOGDescriptor(blob)\n",
    "            fd = np.array(fd)\n",
    "            fd = fd.reshape(-1,fd.size)\n",
    "            #print np.array(fd).shape\n",
    "            output_pred = modle.predict(fd)\n",
    "            #print type(output_pred)\n",
    "            cv2.putText(image,output_pred[0],(x,y-20),cv2.FONT_HERSHEY_SIMPLEX,1,(255,255,0),2)\n",
    "            \n",
    "            \n",
    "                \n",
    "    "
   ]
  },
  {
   "cell_type": "code",
   "execution_count": 283,
   "metadata": {},
   "outputs": [],
   "source": [
    "def predictEachChar(image,x1,x2,y1,y2):\n",
    "    os.system('rm -rf /home/spratik/OCR_HOG/Executable/temp')\n",
    "    os.system('mkdir /home/spratik/OCR_HOG/Executable/temp')\n",
    "    tempPath = '/home/spratik/OCR_HOG/Executable/temp'\n",
    "    croppedImagePath = tempPath + '/licencePlt.png'\n",
    "    licencePlt = image[y1:y2,x1:x2]\n",
    "    cv2.imwrite(croppedImagePath,licencePlt)\n",
    "    path =  '/home/spratik/OCR_HOG/Executable/BlobDetection '+ croppedImagePath + ' ' + tempPath\n",
    "    #print path\n",
    "    os.system(path)\n",
    "    displayDetectedChar(tempPath,licencePlt, image,x1,y1)\n",
    "    \n",
    "    \n",
    "    \n",
    "    "
   ]
  },
  {
   "cell_type": "code",
   "execution_count": 284,
   "metadata": {},
   "outputs": [],
   "source": [
    "def process_image(name, debug, **options):\n",
    "\n",
    "\tse_shape = (16,4)\n",
    "\n",
    "\tif options.get('type') == 'rect':\n",
    "\t\tse_shape = (17,4)\n",
    "\n",
    "\telif options.get('type') == 'square':\n",
    "\t\tse_shape = (7,6)\n",
    "\n",
    "\traw_image = cv2.imread(name,1)\n",
    "\tinput_image = np.copy(raw_image)\n",
    "\n",
    "\tgray = cv2.cvtColor(input_image, cv2.COLOR_BGR2GRAY)\n",
    "\tgray = enhance(gray)\n",
    "\t#cv2.imwrite(\"gray.png\", gray)\n",
    "\tgray = cv2.GaussianBlur(gray, (5,5), 0)\n",
    "\t#cv2.imwrite(\"GaussianBlur.png\", gray)\n",
    "\tgray = cv2.Sobel(gray, -1, 1, 0)\n",
    "\t#cv2.imwrite(\"Sobel.png\", gray)\n",
    "\th,sobel = cv2.threshold(gray,0,255,cv2.THRESH_BINARY+cv2.THRESH_OTSU)\n",
    "\tse = cv2.getStructuringElement(cv2.MORPH_RECT, se_shape)\n",
    "\tgray = cv2.morphologyEx(sobel, cv2.MORPH_CLOSE, se)\n",
    "\t#cv2.imwrite(\"morphologyEx.png\", gray)\n",
    "\ted_img = np.copy(gray)\n",
    "\t#cv2.waitKey(0)\n",
    "\tim,contours,_=cv2.findContours(gray, cv2.RETR_EXTERNAL, cv2.CHAIN_APPROX_NONE)\n",
    "     #cv2.imwrite(\"Contour.png\", im)\n",
    "\tfont = cv2.FONT_HERSHEY_SIMPLEX\n",
    "\n",
    "\tfor contour in contours:\n",
    "\t\taspect_ratio_range = (2.2, 12)\n",
    "\t\tarea_range = (500, 18000)\n",
    "\n",
    "\t\tif options.get('type') == 'rect':\n",
    "\t\t\taspect_ratio_range = (2.2, 12)\n",
    "\t\t\tarea_range = (500, 18000)\n",
    "\n",
    "\t\telif options.get('type') == 'square':\n",
    "\t\t\taspect_ratio_range = (1, 2)\n",
    "\t\t\tarea_range = (300, 8000)\n",
    "\n",
    "\t\tif validate_contour(contour, gray, aspect_ratio_range, area_range):\n",
    "\t\t\trect = cv2.minAreaRect(contour)  \n",
    "\t\t\tbox =  cv2.boxPoints(rect)\n",
    "\t\t\tbox = np.int0(box)  \n",
    "\t\t\tXs = [i[0] for i in box]\n",
    "\t\t\tYs = [i[1] for i in box]\n",
    "\t\t\tx1 = min(Xs)\n",
    "\t\t\tx2 = max(Xs)\n",
    "\t\t\ty1 = min(Ys)\n",
    "\t\t\ty2 = max(Ys)\n",
    "\n",
    "\t\t\tangle = rect[2]\n",
    "\t\t\tif angle < -45:\n",
    "\t\t\t\tangle += 90 \n",
    "\n",
    "\t\t\tW = rect[1][0]\n",
    "\t\t\tH = rect[1][1]\n",
    "\t\t\taspect_ratio = float(W)/H if W > H else float(H)/W\n",
    "\n",
    "\t\t\tcenter = ((x1+x2)/2,(y1+y2)/2)\n",
    "\t\t\tsize = (x2-x1, y2-y1)\n",
    "\t\t\tM = cv2.getRotationMatrix2D((size[0]/2, size[1]/2), angle, 1.0);\n",
    "\t\t\ttmp = cv2.getRectSubPix(ed_img, size, center)\n",
    "\t\t\ttmp = cv2.warpAffine(tmp, M, size)\n",
    "\t\t\tTmpW = H if H > W else W\n",
    "\t\t\tTmpH = H if H < W else W\n",
    "\t\t\ttmp = cv2.getRectSubPix(tmp, (int(TmpW),int(TmpH)), (size[0]/2, size[1]/2))\n",
    "\t\t\t__,tmp = cv2.threshold(tmp,0,255,cv2.THRESH_BINARY+cv2.THRESH_OTSU)\n",
    "\n",
    "\t\t\twhite_pixels = 0\n",
    "\n",
    "\t\t\tfor x in range(tmp.shape[0]):\n",
    "\t\t\t\tfor y in range(tmp.shape[1]):\n",
    "\t\t\t\t\tif tmp[x][y] == 255:\n",
    "\t\t\t\t\t\twhite_pixels += 1\n",
    "\n",
    "\t\t\tedge_density = float(white_pixels)/(tmp.shape[0]*tmp.shape[1])\n",
    "\n",
    "\t\t\ttmp = cv2.getRectSubPix(raw_image, size, center)\n",
    "\t\t\ttmp = cv2.warpAffine(tmp, M, size)\n",
    "\t\t\tTmpW = H if H > W else W\n",
    "\t\t\tTmpH = H if H < W else W\n",
    "\t\t\ttmp = cv2.getRectSubPix(tmp, (int(TmpW),int(TmpH)), (size[0]/2, size[1]/2))\n",
    "\n",
    "\t\t\tif edge_density > 0.5:\n",
    "\t\t\t\tpredictEachChar(input_image, x1,x2,y1,y2)\n",
    "                \n",
    "\t\t\t\t#cv2.drawContours(input_image, [box], 0, (255,0,0),2)\n",
    "                \n",
    "\n",
    "\treturn input_image\n",
    "\n"
   ]
  },
  {
   "cell_type": "code",
   "execution_count": 285,
   "metadata": {},
   "outputs": [
    {
     "name": "stdout",
     "output_type": "stream",
     "text": [
      "/home/spratik/OCR_HOG/Executable/BlobDetection /home/spratik/OCR_HOG/Executable/temp/licencePlt.png /home/spratik/OCR_HOG/Executable/temp\n"
     ]
    },
    {
     "data": {
      "text/plain": [
       "True"
      ]
     },
     "execution_count": 285,
     "metadata": {},
     "output_type": "execute_result"
    }
   ],
   "source": [
    "o1 = process_image('/home/spratik/Computer-Vision/OCR/pyANPD/tests/test.jpg', 0, type='rect')\n",
    "cv2.imwrite('output.png',o1)"
   ]
  }
 ],
 "metadata": {
  "kernelspec": {
   "display_name": "Python 2",
   "language": "python",
   "name": "python2"
  },
  "language_info": {
   "codemirror_mode": {
    "name": "ipython",
    "version": 2
   },
   "file_extension": ".py",
   "mimetype": "text/x-python",
   "name": "python",
   "nbconvert_exporter": "python",
   "pygments_lexer": "ipython2",
   "version": "2.7.13"
  }
 },
 "nbformat": 4,
 "nbformat_minor": 2
}
