{
 "cells": [
  {
   "cell_type": "code",
   "execution_count": 112,
   "metadata": {
    "collapsed": true
   },
   "outputs": [],
   "source": [
    "%matplotlib inline\n",
    "import cv2\n",
    "import numpy as np\n",
    "import sys\n",
    "import glob\n",
    "import math\n",
    "import os\n",
    "from matplotlib import pyplot as plt\n",
    "from skimage.feature import hog\n",
    "from skimage import data, color, exposure\n",
    "import pickle\n",
    "from operator import itemgetter"
   ]
  },
  {
   "cell_type": "code",
   "execution_count": 113,
   "metadata": {
    "collapsed": true
   },
   "outputs": [],
   "source": [
    " modle = pickle.load(open('train_numberplate.xml', \"rb\"))"
   ]
  },
  {
   "cell_type": "code",
   "execution_count": 3,
   "metadata": {
    "collapsed": true
   },
   "outputs": [],
   "source": [
    "def getHOGDescriptor(image):\n",
    "    #im = cv2.imread(imagePath)\n",
    "    gr = cv2.cvtColor(image, cv2.COLOR_BGR2GRAY) \n",
    "    gr1 = cv2.resize(gr,(64*2,64*2))\n",
    "\n",
    "    fd, hog_image = hog(gr1, orientations=9, pixels_per_cell=(4, 4),\n",
    "                    cells_per_block=(1, 1),visualise=True)\n",
    "    return fd"
   ]
  },
  {
   "cell_type": "code",
   "execution_count": 135,
   "metadata": {
    "collapsed": true
   },
   "outputs": [],
   "source": [
    "def displayDetectedChar(path,licencePltImage,image,x1,y1):\n",
    "    blobFilePath = path + '/blobdetectionFile.txt'\n",
    "    c = 0\n",
    "    l = []\n",
    "    with open(blobFilePath,'r') as file:\n",
    "        for line in file:\n",
    "            rect =  line.split()\n",
    "            x = x1 + int(rect[0])\n",
    "            y = y1 + int(rect[1])\n",
    "            width =  int(rect[2])\n",
    "            height = int(rect[3])\n",
    "            #cv2.rectangle(image,(x,y), (x+width,y+height),(255,0,0), 1)\n",
    "            blob = image[y:y+height,x:x+width]\n",
    "            fd = getHOGDescriptor(blob)\n",
    "            fd = np.array(fd)\n",
    "            fd = fd.reshape(-1,fd.size)\n",
    "            #print np.array(fd).shape\n",
    "            output_pred = modle.predict(fd)\n",
    "            l.append([x,y,str(output_pred[0])])\n",
    "            #print output_pred\n",
    "            #print type(output_pred)\n",
    "            c += 20\n",
    "            \n",
    "            #cv2.putText(image,output_pred[0],(x + c,y-20),cv2.FONT_HERSHEY_SIMPLEX,1,(0,0,255),2)\n",
    "            \n",
    "    print l\n",
    "    l.sort(key = lambda x: x[0])\n",
    "    for draw in l:\n",
    "        x1 += 20\n",
    "        cv2.putText(image,draw[2],(x1,y1),cv2.FONT_HERSHEY_SIMPLEX,1,(0,0,255),2)\n",
    "        \n",
    "    "
   ]
  },
  {
   "cell_type": "code",
   "execution_count": 136,
   "metadata": {
    "collapsed": true
   },
   "outputs": [],
   "source": [
    "def predictEachChar(image,x1,x2,y1,y2):\n",
    "    os.system('rm -rf /home/spratik/OCR_HOG/Executable/temp')\n",
    "    os.system('mkdir /home/spratik/OCR_HOG/Executable/temp')\n",
    "    tempPath = '/home/spratik/OCR_HOG/Executable/temp'\n",
    "    croppedImagePath = tempPath + '/licencePlt.png'\n",
    "    licencePlt = image[y1:y2,x1:x2]\n",
    "    cv2.imwrite(croppedImagePath,licencePlt)\n",
    "    path =  '/home/spratik/OCR_HOG/Executable/BlobDetection '+ croppedImagePath + ' ' + tempPath\n",
    "    #print path\n",
    "    os.system(path)\n",
    "    displayDetectedChar(tempPath,licencePlt, image,x1,y1)\n",
    "    \n",
    "    \n",
    "    \n",
    "    "
   ]
  },
  {
   "cell_type": "code",
   "execution_count": 137,
   "metadata": {
    "collapsed": true
   },
   "outputs": [],
   "source": [
    "def processImageHaar(image,licenceplt):\n",
    "    \n",
    "    for (x,y,w,h) in licenceplt:\n",
    "        print x,y,w,h\n",
    "        #cv2.rectangle(image,(x,y),(x+w,y+h),(255,0,0),2)\n",
    "        predictEachChar(image, x,x + w,y,y + h)\n",
    "    \n",
    "    \n",
    "    cv2.imwrite('/home/spratik/OCR_HOG/output/output.png',image)     \n",
    "    "
   ]
  },
  {
   "cell_type": "code",
   "execution_count": 138,
   "metadata": {},
   "outputs": [
    {
     "name": "stdout",
     "output_type": "stream",
     "text": [
      "[[548 245 149  56]]\n",
      "548 245 149 56\n",
      "[[574, 265, 'K'], [599, 265, '5'], [624, 265, 'N'], [639, 265, '2'], [660, 265, '1'], [669, 265, 'S'], [586, 266, 'A'], [611, 266, '3'], [650, 266, '1']]\n"
     ]
    }
   ],
   "source": [
    "image = cv2.imread('/home/spratik/OCR_HOG/output_image/IMAGE_18.png')\n",
    "licence = cv2.CascadeClassifier('/home/spratik/OCR_HOG/licenseplate.xml')\n",
    "gray = cv2.cvtColor(image,0)\n",
    "licenceplt  = licence.detectMultiScale(gray,1.3,5)\n",
    "print licenceplt\n",
    "processImageHaar(gray,licenceplt)\n"
   ]
  },
  {
   "cell_type": "code",
   "execution_count": 16,
   "metadata": {},
   "outputs": [
    {
     "ename": "NameError",
     "evalue": "name 'out' is not defined",
     "output_type": "error",
     "traceback": [
      "\u001b[0;31m---------------------------------------------------------------------------\u001b[0m",
      "\u001b[0;31mNameError\u001b[0m                                 Traceback (most recent call last)",
      "\u001b[0;32m<ipython-input-16-e974ae4ab86e>\u001b[0m in \u001b[0;36m<module>\u001b[0;34m()\u001b[0m\n\u001b[1;32m     37\u001b[0m \u001b[0;31m# When everything done, release the video capture and video write objects\u001b[0m\u001b[0;34m\u001b[0m\u001b[0;34m\u001b[0m\u001b[0m\n\u001b[1;32m     38\u001b[0m \u001b[0mcap\u001b[0m\u001b[0;34m.\u001b[0m\u001b[0mrelease\u001b[0m\u001b[0;34m(\u001b[0m\u001b[0;34m)\u001b[0m\u001b[0;34m\u001b[0m\u001b[0m\n\u001b[0;32m---> 39\u001b[0;31m \u001b[0mout\u001b[0m\u001b[0;34m.\u001b[0m\u001b[0mrelease\u001b[0m\u001b[0;34m(\u001b[0m\u001b[0;34m)\u001b[0m\u001b[0;34m\u001b[0m\u001b[0m\n\u001b[0m\u001b[1;32m     40\u001b[0m \u001b[0;34m\u001b[0m\u001b[0m\n\u001b[1;32m     41\u001b[0m \u001b[0;31m# Closes all the frames\u001b[0m\u001b[0;34m\u001b[0m\u001b[0;34m\u001b[0m\u001b[0m\n",
      "\u001b[0;31mNameError\u001b[0m: name 'out' is not defined"
     ]
    }
   ],
   "source": [
    "# Create a VideoCapture object\n",
    "cap = cv2.VideoCapture('/home/spratik/Computer-Vision/INPUT_VIDEO/VID20180707152732.mp4')\n",
    " \n",
    "# Check if camera opened successfully\n",
    "if (cap.isOpened() == False): \n",
    "  print(\"Unable to read camera feed\")\n",
    " \n",
    "# Default resolutions of the frame are obtained.The default resolutions are system dependent.\n",
    "# We convert the resolutions from float to integer.\n",
    "frame_width = int(cap.get(3))\n",
    "frame_height = int(cap.get(4))\n",
    " \n",
    "# Define the codec and create VideoWriter object.The output is stored in 'outpy.avi' file.\n",
    "#out = cv2.VideoWriter('outpy.avi',cv2.VideoWriter_fourcc('M','J','P','G'), 10, (frame_width,frame_height))\n",
    "c = 0\n",
    "while(True):\n",
    "  ret, frame = cap.read()\n",
    " \n",
    "  if ret == True: \n",
    "    #outputImage = process_image(frame, 0, type='rect')\n",
    "    # Write the frame into the file 'output.avi'\n",
    "    #out.write(outputImage)\n",
    "    # Display the resulting frame    \n",
    "    #cv2.imshow('frame',frame)\n",
    "    name = '/home/spratik/OCR_HOG/output_image/IMAGE_'+ str(c) + '.png'\n",
    "    c +=1\n",
    "    cv2.imwrite(name,frame)\n",
    " \n",
    "    # Press Q on keyboard to stop recording\n",
    "    #if cv2.waitKey(1) & 0xFF == ord('q'):\n",
    "     # break\n",
    " \n",
    "  # Break the loop\n",
    "  else:\n",
    "    break \n",
    " \n",
    "# When everything done, release the video capture and video write objects\n",
    "cap.release()\n",
    "#out.release()\n",
    " \n",
    "# Closes all the frames\n",
    "#cv2.destroyAllWindows() "
   ]
  },
  {
   "cell_type": "code",
   "execution_count": 36,
   "metadata": {
    "collapsed": true
   },
   "outputs": [],
   "source": [
    "# Create a VideoCapture object\n",
    "cap = cv2.VideoCapture('/home/spratik/Computer-Vision/INPUT_VIDEO/VID20180707152732.mp4')\n",
    " \n",
    "# Check if camera opened successfully\n",
    "if (cap.isOpened() == False): \n",
    "  print(\"Unable to read camera feed\")\n",
    " \n",
    "# Default resolutions of the frame are obtained.The default resolutions are system dependent.\n",
    "# We convert the resolutions from float to integer.\n",
    "frame_width = int(cap.get(3))\n",
    "frame_height = int(cap.get(4))\n",
    " \n",
    "# Define the codec and create VideoWriter object.The output is stored in 'outpy.avi' file.\n",
    "out = cv2.VideoWriter('outpy.avi',cv2.VideoWriter_fourcc('M','J','P','G'), 10, (frame_width,frame_height))\n",
    "licence = cv2.CascadeClassifier('/home/spratik/OCR_HOG/licenseplate.xml')\n",
    "while(True):\n",
    "  ret, frame = cap.read()\n",
    " \n",
    "  if ret == True: \n",
    "    \n",
    "    outputImage = process_image(frame, 0, type='rect')\n",
    "    # Write the frame into the file 'output.avi'\n",
    "    out.write(outputImage)\n",
    " \n",
    "    # Display the resulting frame    \n",
    "    #cv2.imshow('frame',frame)\n",
    " \n",
    "    # Press Q on keyboard to stop recording\n",
    "    #if cv2.waitKey(1) & 0xFF == ord('q'):\n",
    "     # break\n",
    " \n",
    "  # Break the loop\n",
    "  else:\n",
    "    break \n",
    " \n",
    "# When everything done, release the video capture and video write objects\n",
    "cap.release()\n",
    "out.release()\n",
    " \n",
    "# Closes all the frames\n",
    "cv2.destroyAllWindows() "
   ]
  },
  {
   "cell_type": "code",
   "execution_count": null,
   "metadata": {
    "collapsed": true
   },
   "outputs": [],
   "source": []
  }
 ],
 "metadata": {
  "kernelspec": {
   "display_name": "Python 2",
   "language": "python",
   "name": "python2"
  },
  "language_info": {
   "codemirror_mode": {
    "name": "ipython",
    "version": 2
   },
   "file_extension": ".py",
   "mimetype": "text/x-python",
   "name": "python",
   "nbconvert_exporter": "python",
   "pygments_lexer": "ipython2",
   "version": "2.7.13"
  }
 },
 "nbformat": 4,
 "nbformat_minor": 2
}
